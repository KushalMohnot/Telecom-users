{
 "cells": [
  {
   "cell_type": "markdown",
   "metadata": {},
   "source": [
    "# User report for a telecom company\n",
    "\n",
    "The task is to analyze data for telecom operator Megaline. The company offers its clients two prepaid plans, Surf and Ultimate. The commercial department wants to know which of the plans is more profitable in order to adjust the advertising budget.\n",
    "The task is to carry out a preliminary analysis of the plans based on a relatively small client selection. We have the data on 500 Megaline clients: who the clients are, where they're from, which plan they use, and the number of calls they made and text messages they sent in 2018. The job is to analyze clients' behavior and determine which prepaid plan is more profitable."
   ]
  },
  {
   "cell_type": "code",
   "execution_count": 1,
   "metadata": {},
   "outputs": [],
   "source": [
    "import pandas as pd\n",
    "import numpy as np\n",
    "#loading data\n",
    "get_id = np.vectorize(lambda x: re.sub('.*_',  '' ,   x))\n",
    "\n",
    "calls = pd.read_csv('/datasets/megaline_calls.csv')\n",
    "calls['duration'] = calls['duration'].apply(np.ceil)\n",
    "#calls.head()\n",
    "#calls.info()\n",
    "#calls.describe()\n",
    "import re\n",
    "get_id = np.vectorize(lambda x: re.sub('.*_',  '' ,   x))\n",
    "def get_info_date(df):\n",
    "    columns = df.columns.tolist()\n",
    "    idx = [columns.index(x) for x in columns  if 'date' in x][0]\n",
    "    \n",
    "    df[columns[idx]] = pd.to_datetime(df[columns[idx]])\n",
    "    df['day'] = df[columns[idx]].dt.day_name()\n",
    "    df['month'] = df[columns[idx]].dt.month_name()\n",
    "    df['year'] = df[columns[idx]].dt.year\n",
    "    return df\n",
    "\n",
    "\n",
    "\n",
    "\n",
    "\n"
   ]
  },
  {
   "cell_type": "code",
   "execution_count": 2,
   "metadata": {},
   "outputs": [],
   "source": [
    "internet = pd.read_csv('/datasets/megaline_internet.csv')\n",
    "internet = get_info_date(internet)\n",
    "internet['id'] = get_id(internet['id'])\n",
    "#internet.info()\n",
    "#internet.describe()\n"
   ]
  },
  {
   "cell_type": "code",
   "execution_count": 3,
   "metadata": {},
   "outputs": [],
   "source": [
    "messages = pd.read_csv('/datasets/megaline_messages.csv')\n",
    "messages['id'] = get_id(messages['id'])\n",
    "messages = get_info_date(messages)\n",
    "\n",
    "#messages.head()\n",
    "#messages.info()\n",
    "#messages.describe()"
   ]
  },
  {
   "cell_type": "code",
   "execution_count": 4,
   "metadata": {},
   "outputs": [],
   "source": [
    "plans = pd.read_csv('/datasets/megaline_plans.csv')\n",
    "#plans.head()\n",
    "#plans.info()\n",
    "#plans.describe()"
   ]
  },
  {
   "cell_type": "code",
   "execution_count": 5,
   "metadata": {},
   "outputs": [],
   "source": [
    "users = pd.read_csv('/datasets/megaline_users.csv')\n",
    "#users.head()\n",
    "#users.info()\n",
    "#users.columns\n",
    "users['reg_date'] = pd.to_datetime(users['reg_date'])\n",
    "users['churn_date'] = pd.to_datetime(users['churn_date'])\n",
    "users.rename(columns = {'tariff':'plan'}, inplace = True)\n",
    "cities = users[[\"user_id\",\"city\"]]\n",
    "\n"
   ]
  },
  {
   "cell_type": "markdown",
   "metadata": {},
   "source": [
    "I initially loaded the data assuming there was a tab seperator, and that was not the case. That caused me to spend a lot of time wondering why my value_counts function wasn't working. I rounded up the call durations so that customers who had a remainder less than 1 minute on their calls would be charged for the whole minute. \n",
    "\n",
    "For data used, I first aggregated the total amount of data a customer used in a month, and then I rounded that up to the nearest thousand.\n"
   ]
  },
  {
   "cell_type": "code",
   "execution_count": 6,
   "metadata": {},
   "outputs": [],
   "source": [
    "#calls_per_user = calls['user_id'].value_counts().rename_axis('user_id').reset_index(name='total_calls')\n",
    "#print(calls_per_user.head())\n",
    "\n",
    "calls['call_date'] = pd.to_datetime(calls['call_date'])\n",
    "calls['id'] = get_id(calls['id'])\n",
    "calls = get_info_date(calls)\n",
    "#calls_per_month = pd.pivot_table(calls, index = 'user_id', columns='call_date',aggfunc='count')\n",
    "calls_per_month = (calls.groupby(['user_id',\n",
    "                                calls['call_date'].dt.month.rename('month')])['call_date']\n",
    "                        .count()\n",
    "                        .reset_index())\n",
    "calls_per_month.columns = ['user_id','date','total_calls']\n",
    "#print(calls_per_month.info())\n",
    "#calls_per_month.head(10)\n"
   ]
  },
  {
   "cell_type": "markdown",
   "metadata": {},
   "source": [
    "We have only 481 users. This makes sense because there are 500 users and it is reasonable to assume that 19 of them made no calls. One user made 1300 calls and one user made only 2 calls, this is a wide range, but again, not particularly extraordinary to cause concern. We then Aggregated the total number of calls each user made per month."
   ]
  },
  {
   "cell_type": "code",
   "execution_count": 7,
   "metadata": {},
   "outputs": [],
   "source": [
    "#minutes_per_month = calls.groupby(by='user_id').sum()\n",
    "minutes_per_month = calls.groupby(['user_id',calls['call_date'].dt.month])['duration'].sum().reset_index()\n",
    "#minutes_per_month.head(20)\n",
    "#minutes_per_month.describe()\n"
   ]
  },
  {
   "cell_type": "markdown",
   "metadata": {},
   "source": [
    "Again, we see 481 users, which is the number we expected. The mean amount of time that a user talks for in a month is 435 minutes, with one customer talking for as many as 1510 minutes in a month. This is about 25 hours, which is not enough to give us cause for suspicion with regards to our computation being correct.."
   ]
  },
  {
   "cell_type": "code",
   "execution_count": 8,
   "metadata": {},
   "outputs": [],
   "source": [
    "messages['message_date'] = pd.to_datetime(messages['message_date'], errors='coerce')\n",
    "messages_per_month = messages.groupby(['user_id',messages['message_date'].dt.month.rename('month')])['message_date'].count().reset_index()\n",
    "messages_per_month.columns = ['user_id','date','total_messages']\n",
    "#messages_per_month.head(10)\n",
    "#messages_per_user.describe()\n",
    "\n"
   ]
  },
  {
   "cell_type": "markdown",
   "metadata": {},
   "source": [
    "Each user sends an average of 42 messages per month. The range is reasonable too."
   ]
  },
  {
   "cell_type": "code",
   "execution_count": 9,
   "metadata": {},
   "outputs": [],
   "source": [
    "internet['session_date'] = pd.to_datetime(internet['session_date'], errors='coerce')\n",
    "internet_per_month = (internet.groupby(['user_id', internet['session_date'].dt.month])['mb_used']\n",
    "   .sum()\n",
    "   .reset_index())\n",
    "#internet_per_month.head(10)\n",
    "#internet_per_month.info()\n",
    "internet_per_month['mb_used'] = internet_per_month['mb_used']/1000\n",
    "internet_per_month['mb_used'] = internet_per_month['mb_used'].apply(np.ceil)\n",
    "internet_per_month['mb_used'] = internet_per_month['mb_used']*1000\n",
    "#internet_per_month.head(10)"
   ]
  },
  {
   "cell_type": "markdown",
   "metadata": {},
   "source": [
    "More people use the internet than the number of people who make calls. The range is reasonable \n",
    "and the mean is 78610 GB of data"
   ]
  },
  {
   "cell_type": "code",
   "execution_count": 10,
   "metadata": {},
   "outputs": [
    {
     "data": {
      "text/html": [
       "<div>\n",
       "<style scoped>\n",
       "    .dataframe tbody tr th:only-of-type {\n",
       "        vertical-align: middle;\n",
       "    }\n",
       "\n",
       "    .dataframe tbody tr th {\n",
       "        vertical-align: top;\n",
       "    }\n",
       "\n",
       "    .dataframe thead th {\n",
       "        text-align: right;\n",
       "    }\n",
       "</style>\n",
       "<table border=\"1\" class=\"dataframe\">\n",
       "  <thead>\n",
       "    <tr style=\"text-align: right;\">\n",
       "      <th></th>\n",
       "      <th>user_id</th>\n",
       "      <th>calls</th>\n",
       "      <th>duration</th>\n",
       "      <th>mb_used</th>\n",
       "      <th>total_messages</th>\n",
       "      <th>plan</th>\n",
       "    </tr>\n",
       "  </thead>\n",
       "  <tbody>\n",
       "    <tr>\n",
       "      <td>0</td>\n",
       "      <td>1000</td>\n",
       "      <td>16.0</td>\n",
       "      <td>124.0</td>\n",
       "      <td>1901.47</td>\n",
       "      <td>11.0</td>\n",
       "      <td>ultimate</td>\n",
       "    </tr>\n",
       "    <tr>\n",
       "      <td>1</td>\n",
       "      <td>1001</td>\n",
       "      <td>27.0</td>\n",
       "      <td>182.0</td>\n",
       "      <td>6919.15</td>\n",
       "      <td>30.0</td>\n",
       "      <td>surf</td>\n",
       "    </tr>\n",
       "    <tr>\n",
       "      <td>2</td>\n",
       "      <td>1001</td>\n",
       "      <td>56.0</td>\n",
       "      <td>412.0</td>\n",
       "      <td>19369.18</td>\n",
       "      <td>44.0</td>\n",
       "      <td>surf</td>\n",
       "    </tr>\n",
       "    <tr>\n",
       "      <td>3</td>\n",
       "      <td>1001</td>\n",
       "      <td>64.0</td>\n",
       "      <td>426.0</td>\n",
       "      <td>18504.30</td>\n",
       "      <td>36.0</td>\n",
       "      <td>surf</td>\n",
       "    </tr>\n",
       "    <tr>\n",
       "      <td>4</td>\n",
       "      <td>1001</td>\n",
       "      <td>65.0</td>\n",
       "      <td>393.0</td>\n",
       "      <td>22330.49</td>\n",
       "      <td>53.0</td>\n",
       "      <td>surf</td>\n",
       "    </tr>\n",
       "  </tbody>\n",
       "</table>\n",
       "</div>"
      ],
      "text/plain": [
       "   user_id  calls  duration   mb_used  total_messages      plan\n",
       "0     1000   16.0     124.0   1901.47            11.0  ultimate\n",
       "1     1001   27.0     182.0   6919.15            30.0      surf\n",
       "2     1001   56.0     412.0  19369.18            44.0      surf\n",
       "3     1001   64.0     426.0  18504.30            36.0      surf\n",
       "4     1001   65.0     393.0  22330.49            53.0      surf"
      ]
     },
     "execution_count": 10,
     "metadata": {},
     "output_type": "execute_result"
    }
   ],
   "source": [
    "\n",
    "#Calls per user per month\n",
    "calls_made = calls.groupby(['user_id','month']).agg({'id':'count'}).rename(columns={'id':'calls'})\n",
    "\n",
    "#Minutes per user per month\n",
    "min_spent = calls.groupby(['user_id','month']).agg({'duration':'sum'}).rename(columns={'duration':'duration'})\n",
    "\n",
    "#Traffic per user per month\n",
    "mb_used = internet.groupby(['user_id','month']).agg({'mb_used':'sum'}).rename(columns={'mb_used':'mb_used'})\n",
    "\n",
    "#Messages per user per month\n",
    "messages_sent = messages.groupby(['user_id','month']).agg({'id':'count'}).rename(columns={'id':'total_messages'})\n",
    "\n",
    "#Plan for each user\n",
    "plan = users[['user_id','plan']]\n",
    "\n",
    "user_attributes = pd.concat([calls_made, min_spent, mb_used, messages_sent],axis=1).merge(plan,on='user_id')\n",
    "\n",
    "user_attributes.head()\n"
   ]
  },
  {
   "cell_type": "code",
   "execution_count": 11,
   "metadata": {},
   "outputs": [],
   "source": [
    "# Function to calculate if a user is over their plan usage, created with assistance from Robert Quan\n",
    "def fill_na(df):\n",
    "    if df.isna().sum().sum() !=0:\n",
    "        df.fillna(0,inplace=True)\n",
    "    return df\n",
    "\n",
    "def calculate_overage(df,df_plan):\n",
    "    #df= fill_na(user_attributes)\n",
    "    \n",
    "    over_minutes = []\n",
    "    over_messages = []\n",
    "    over_traffic = []\n",
    "\n",
    "    #ultimate allowances\n",
    "    ultimate_message = 1000  #1000 texts\n",
    "    ultimate_traffic = 30720 #30GB of data\n",
    "    ultimate_minutes = 3000 #3000 minutes\n",
    "    \n",
    "    #surf allowances\n",
    "    surf_message = 50   #50 texts\n",
    "    surf_traffic = 15360  #15gb of data\n",
    "    surf_minutes = 500 #500 minutes\n",
    "    duration= 0\n",
    "    mb_used = 0\n",
    "    total_messages = 0\n",
    "    plan = 0\n",
    "    \n",
    "    \n",
    "    \n",
    "    #vec = [duration, mb_used, total_messages, plan]\n",
    "    # Create a tuple of every row\n",
    "    for duration, mb_used, total_messages, plan in zip(df['duration'],df['mb_used'],df['total_messages'],df['plan']):\n",
    "        if plan == 'ultimate':\n",
    "            if duration <= ultimate_minutes:\n",
    "                over_minutes.append(0)\n",
    "            else:\n",
    "                over_minutes.append(duration-ultimate_minutes)\n",
    "                \n",
    "            if mb_used <= ultimate_traffic:\n",
    "                over_traffic.append(0)\n",
    "            else:\n",
    "                over_traffic.append(mb_used-ultimate_traffic)\n",
    "                \n",
    "            if total_messages <= ultimate_message:\n",
    "                over_messages.append(0)\n",
    "            else:\n",
    "                over_messages.append(total_messages-ultimate_message)\n",
    "                \n",
    "        else: #surf case \n",
    "            if duration <= surf_minutes:\n",
    "                over_minutes.append(0)\n",
    "            else:\n",
    "                over_minutes.append(duration-surf_minutes)\n",
    "                \n",
    "            if mb_used <= surf_traffic:\n",
    "                over_traffic.append(0)\n",
    "            else:\n",
    "                over_traffic.append(mb_used-surf_traffic)\n",
    "                \n",
    "            if total_messages <= surf_message:\n",
    "                over_messages.append(0)\n",
    "            else:\n",
    "                over_messages.append(total_messages-surf_message)\n",
    "    \n",
    "    return np.ceil(over_minutes), np.ceil(over_traffic), np.ceil(over_messages)\n",
    "user_attributes['over_minutes'],user_attributes['over_traffic'],user_attributes['over_messages'] = calculate_overage(user_attributes, plans)\n",
    "#user_attributes.head(20)"
   ]
  },
  {
   "cell_type": "code",
   "execution_count": 12,
   "metadata": {},
   "outputs": [],
   "source": [
    "#Function to calculate revenue, created with assistance from Robert Quan\n",
    "def calc_revenue(df, df_plan):\n",
    "    \n",
    "    revenue = []\n",
    "    user_sum = 0\n",
    " \n",
    "    #ultimate allowance and costs\n",
    "    ultimate_plan_cost = 70\n",
    "    ultimate_message_cost = .01\n",
    "    ultimate_traffic_cost = 7\n",
    "    ultimate_minutes_cost = .01\n",
    "    \n",
    "    #surf allowance and costs\n",
    "    surf_plan_cost = 20\n",
    "    surf_message_cost = .03\n",
    "    surf_traffic_cost = 10\n",
    "    surf_minutes_cost = .03\n",
    "    \n",
    "    for over_minutes, over_traffic, over_messages, plan in zip(df['over_minutes'],df['over_traffic'],df['over_messages'],df['plan']):\n",
    "        if plan == 'ultimate':\n",
    "            user_sum += ultimate_plan_cost\n",
    "            user_sum += ultimate_message_cost * over_messages\n",
    "            user_sum += ultimate_traffic_cost * (over_traffic / 1024)\n",
    "            user_sum += ultimate_minutes_cost * over_minutes\n",
    "        else:\n",
    "            user_sum += surf_plan_cost\n",
    "            user_sum += surf_message_cost * over_messages\n",
    "            user_sum += surf_traffic_cost * (over_traffic / 1024)\n",
    "            user_sum += surf_minutes_cost * over_minutes\n",
    "        revenue.append(user_sum)\n",
    "        user_sum = 0\n",
    "    return revenue"
   ]
  },
  {
   "cell_type": "code",
   "execution_count": 13,
   "metadata": {},
   "outputs": [],
   "source": [
    "user_attributes['revenue'] = calc_revenue(user_attributes,plans)\n",
    "#display(user_attributes.head(20))\n",
    "user_attributes['revenue'].mean()\n",
    "user_attributes['monthly_profit_Surf'] = user_attributes.query('plan == \"surf\"')['revenue']\n",
    "user_attributes['monthly_profit_Ultimate'] = user_attributes.query('plan == \"ultimate\"')['revenue']\n",
    "# print(user_attributes.describe())\n",
    "# user_attributes['monthly_profit_Surf'].describe()\n",
    "# user_attributes['monthly_profit_Ultimate'].describe()\n",
    "#user_attributes['plan'].value_counts()\n"
   ]
  },
  {
   "cell_type": "markdown",
   "metadata": {},
   "source": [
    "    Ultimate is making revenue of \\\\$23 per month per user. The biggest revenue is from a user who they are making an amount of \\\\$181 from in a month. Surf has a revenue of \\\\$41, which is a decent amount. This might be because some people on the Surf plan give huge revenue, like the person who spent \\\\$583 in a month."
   ]
  },
  {
   "cell_type": "code",
   "execution_count": 14,
   "metadata": {},
   "outputs": [
    {
     "name": "stdout",
     "output_type": "stream",
     "text": [
      "57.28641962394068\n",
      "72.06313080202936\n"
     ]
    }
   ],
   "source": [
    "#user_attributes.groupby('plan').revenue.mean()\n",
    "print(user_attributes['monthly_profit_Surf'].mean())\n",
    "print(user_attributes['monthly_profit_Ultimate'].mean())"
   ]
  },
  {
   "cell_type": "code",
   "execution_count": 15,
   "metadata": {},
   "outputs": [],
   "source": [
    "user_attributes_copy = user_attributes\n",
    "ultimate_users = user_attributes_copy.query('plan == \"ultimate\"')\n",
    "ultimate_users = ultimate_users.drop(['user_id', 'monthly_profit_Surf'],axis='columns')\n",
    "\n",
    "user_attributes_copy = user_attributes\n",
    "surf_users = user_attributes_copy.query('plan == \"surf\"')\n",
    "surf_users = surf_users.drop(['user_id','monthly_profit_Ultimate'],axis='columns')\n",
    "\n",
    "#ultimate_users.describe()\n",
    "#user_attributes.query('plan == \"ultimate\"').describe()"
   ]
  },
  {
   "cell_type": "code",
   "execution_count": 16,
   "metadata": {},
   "outputs": [
    {
     "data": {
      "text/html": [
       "<div>\n",
       "<style scoped>\n",
       "    .dataframe tbody tr th:only-of-type {\n",
       "        vertical-align: middle;\n",
       "    }\n",
       "\n",
       "    .dataframe tbody tr th {\n",
       "        vertical-align: top;\n",
       "    }\n",
       "\n",
       "    .dataframe thead th {\n",
       "        text-align: right;\n",
       "    }\n",
       "</style>\n",
       "<table border=\"1\" class=\"dataframe\">\n",
       "  <thead>\n",
       "    <tr style=\"text-align: right;\">\n",
       "      <th></th>\n",
       "      <th>calls</th>\n",
       "      <th>duration</th>\n",
       "      <th>mb_used</th>\n",
       "      <th>total_messages</th>\n",
       "      <th>over_minutes</th>\n",
       "      <th>over_traffic</th>\n",
       "      <th>over_messages</th>\n",
       "      <th>revenue</th>\n",
       "      <th>monthly_profit_Surf</th>\n",
       "    </tr>\n",
       "  </thead>\n",
       "  <tbody>\n",
       "    <tr>\n",
       "      <td>count</td>\n",
       "      <td>1545.000000</td>\n",
       "      <td>1545.000000</td>\n",
       "      <td>1558.000000</td>\n",
       "      <td>1222.000000</td>\n",
       "      <td>1545.000000</td>\n",
       "      <td>1558.000000</td>\n",
       "      <td>1222.000000</td>\n",
       "      <td>1180.000000</td>\n",
       "      <td>1180.000000</td>\n",
       "    </tr>\n",
       "    <tr>\n",
       "      <td>mean</td>\n",
       "      <td>60.895793</td>\n",
       "      <td>436.519741</td>\n",
       "      <td>16717.702137</td>\n",
       "      <td>40.109656</td>\n",
       "      <td>62.572816</td>\n",
       "      <td>3682.755456</td>\n",
       "      <td>9.027005</td>\n",
       "      <td>57.286420</td>\n",
       "      <td>57.286420</td>\n",
       "    </tr>\n",
       "    <tr>\n",
       "      <td>std</td>\n",
       "      <td>31.268044</td>\n",
       "      <td>229.283805</td>\n",
       "      <td>7884.682983</td>\n",
       "      <td>33.035500</td>\n",
       "      <td>126.382269</td>\n",
       "      <td>5433.954001</td>\n",
       "      <td>21.677219</td>\n",
       "      <td>51.986482</td>\n",
       "      <td>51.986482</td>\n",
       "    </tr>\n",
       "    <tr>\n",
       "      <td>min</td>\n",
       "      <td>1.000000</td>\n",
       "      <td>0.000000</td>\n",
       "      <td>92.310000</td>\n",
       "      <td>1.000000</td>\n",
       "      <td>0.000000</td>\n",
       "      <td>0.000000</td>\n",
       "      <td>0.000000</td>\n",
       "      <td>20.000000</td>\n",
       "      <td>20.000000</td>\n",
       "    </tr>\n",
       "    <tr>\n",
       "      <td>25%</td>\n",
       "      <td>40.000000</td>\n",
       "      <td>279.000000</td>\n",
       "      <td>12187.955000</td>\n",
       "      <td>16.000000</td>\n",
       "      <td>0.000000</td>\n",
       "      <td>0.000000</td>\n",
       "      <td>0.000000</td>\n",
       "      <td>20.022500</td>\n",
       "      <td>20.022500</td>\n",
       "    </tr>\n",
       "    <tr>\n",
       "      <td>50%</td>\n",
       "      <td>60.000000</td>\n",
       "      <td>430.000000</td>\n",
       "      <td>16923.830000</td>\n",
       "      <td>32.000000</td>\n",
       "      <td>0.000000</td>\n",
       "      <td>1564.500000</td>\n",
       "      <td>0.000000</td>\n",
       "      <td>37.911250</td>\n",
       "      <td>37.911250</td>\n",
       "    </tr>\n",
       "    <tr>\n",
       "      <td>75%</td>\n",
       "      <td>80.000000</td>\n",
       "      <td>579.000000</td>\n",
       "      <td>21039.860000</td>\n",
       "      <td>54.000000</td>\n",
       "      <td>79.000000</td>\n",
       "      <td>5680.250000</td>\n",
       "      <td>4.000000</td>\n",
       "      <td>76.665898</td>\n",
       "      <td>76.665898</td>\n",
       "    </tr>\n",
       "    <tr>\n",
       "      <td>max</td>\n",
       "      <td>205.000000</td>\n",
       "      <td>1510.000000</td>\n",
       "      <td>70931.590000</td>\n",
       "      <td>266.000000</td>\n",
       "      <td>1010.000000</td>\n",
       "      <td>55572.000000</td>\n",
       "      <td>216.000000</td>\n",
       "      <td>583.065313</td>\n",
       "      <td>583.065313</td>\n",
       "    </tr>\n",
       "  </tbody>\n",
       "</table>\n",
       "</div>"
      ],
      "text/plain": [
       "             calls     duration       mb_used  total_messages  over_minutes  \\\n",
       "count  1545.000000  1545.000000   1558.000000     1222.000000   1545.000000   \n",
       "mean     60.895793   436.519741  16717.702137       40.109656     62.572816   \n",
       "std      31.268044   229.283805   7884.682983       33.035500    126.382269   \n",
       "min       1.000000     0.000000     92.310000        1.000000      0.000000   \n",
       "25%      40.000000   279.000000  12187.955000       16.000000      0.000000   \n",
       "50%      60.000000   430.000000  16923.830000       32.000000      0.000000   \n",
       "75%      80.000000   579.000000  21039.860000       54.000000     79.000000   \n",
       "max     205.000000  1510.000000  70931.590000      266.000000   1010.000000   \n",
       "\n",
       "       over_traffic  over_messages      revenue  monthly_profit_Surf  \n",
       "count   1558.000000    1222.000000  1180.000000          1180.000000  \n",
       "mean    3682.755456       9.027005    57.286420            57.286420  \n",
       "std     5433.954001      21.677219    51.986482            51.986482  \n",
       "min        0.000000       0.000000    20.000000            20.000000  \n",
       "25%        0.000000       0.000000    20.022500            20.022500  \n",
       "50%     1564.500000       0.000000    37.911250            37.911250  \n",
       "75%     5680.250000       4.000000    76.665898            76.665898  \n",
       "max    55572.000000     216.000000   583.065313           583.065313  "
      ]
     },
     "execution_count": 16,
     "metadata": {},
     "output_type": "execute_result"
    }
   ],
   "source": [
    "#ultimate_users.describe()\n",
    "surf_users.describe()"
   ]
  },
  {
   "cell_type": "markdown",
   "metadata": {},
   "source": [
    "Ultimate users on average send 46 messages, make 61 calls that add up to 434 minutes a month on average and use 17238 MB of data. Meanwhile, Surf users on average send 40 messages, make 60 calls that add up to 436 minutes a month on average and use 16717 MB of data.\n",
    "\n",
    "The standard deviation also gives us insight into dispersion. The SD of the messages sent, calls made, how long they spoke for per month, and data used for Surf users respectively are: 33.03,31.268,229.28,7884.68. The SD of the messages sent, calls made and how long they spoke for per month, and data used for Ultimate users respectively are: 32.94,32.85,237.852,7831.01.\n",
    "\n",
    "The average and dispersion metrics for both companies doesn't differ much, leading us to believe that the users of both companies behave similarly despite their different pricing."
   ]
  },
  {
   "cell_type": "code",
   "execution_count": 17,
   "metadata": {},
   "outputs": [
    {
     "name": "stderr",
     "output_type": "stream",
     "text": [
      "/opt/conda/lib/python3.7/site-packages/numpy/core/_asarray.py:83: VisibleDeprecationWarning: Creating an ndarray from ragged nested sequences (which is a list-or-tuple of lists-or-tuples-or ndarrays with different lengths or shapes) is deprecated. If you meant to do this, you must specify 'dtype=object' when creating the ndarray\n",
      "  return array(a, dtype, copy=False, order=order)\n"
     ]
    },
    {
     "data": {
      "text/plain": [
       "Text(0.5, 0, 'Total_messages')"
      ]
     },
     "execution_count": 17,
     "metadata": {},
     "output_type": "execute_result"
    },
    {
     "data": {
      "image/png": "[encoded data removed]",
      "text/plain": [
       "<Figure size 432x288 with 1 Axes>"
      ]
     },
     "metadata": {
      "needs_background": "light"
     },
     "output_type": "display_data"
    }
   ],
   "source": [
    "import matplotlib.pyplot as plt\n",
    "plt.hist([ultimate_users['total_messages'],surf_users['total_messages']],label= ['ultimate','surf'], density = True)\n",
    "plt.legend()\n",
    "plt.xlabel('Total_messages')\n"
   ]
  },
  {
   "cell_type": "markdown",
   "metadata": {},
   "source": [
    "I first just plotted the histograms but quickly realized that since Surf had more users in this sample, their bars were way higher than ultimate's. Therefore, I used density to get a relative understanding of how many users send a certain number of messages. Both plans seem to be having similar trends, and the graphs support the mean values we computed. Although Surf has higher values than Ultimate for fewer messages, they both have fewer customers who make more messages per month, decaying exponentially. The data is skewed to the right here."
   ]
  },
  {
   "cell_type": "code",
   "execution_count": 18,
   "metadata": {},
   "outputs": [
    {
     "data": {
      "text/plain": [
       "Text(0.5, 0, 'Duration')"
      ]
     },
     "execution_count": 18,
     "metadata": {},
     "output_type": "execute_result"
    },
    {
     "data": {
      "image/png": "[encoded data removed]",
      "text/plain": [
       "<Figure size 432x288 with 1 Axes>"
      ]
     },
     "metadata": {
      "needs_background": "light"
     },
     "output_type": "display_data"
    }
   ],
   "source": [
    "plt.hist([ultimate_users['duration'],surf_users['duration']],label= ['ultimate','surf'], density = True)\n",
    "plt.legend()\n",
    "plt.xlabel('Duration')"
   ]
  },
  {
   "cell_type": "markdown",
   "metadata": {},
   "source": [
    "For duration of calls, overall, both plans have similar trends, but on local levels the gradient change is different with ultimate having more users who make shorter calls and surf having more users who make longer calls. The data is skewed to the right here and looks like a normal distribution with a mean around 430. "
   ]
  },
  {
   "cell_type": "code",
   "execution_count": 19,
   "metadata": {},
   "outputs": [
    {
     "data": {
      "text/plain": [
       "Text(0.5, 0, 'Total_calls')"
      ]
     },
     "execution_count": 19,
     "metadata": {},
     "output_type": "execute_result"
    },
    {
     "data": {
      "image/png": "[encoded data removed]",
      "text/plain": [
       "<Figure size 432x288 with 1 Axes>"
      ]
     },
     "metadata": {
      "needs_background": "light"
     },
     "output_type": "display_data"
    }
   ],
   "source": [
    "plt.hist([ultimate_users['calls'],surf_users['calls']],label= ['ultimate','surf'], density = True)\n",
    "plt.legend()\n",
    "plt.xlabel('Total_calls')"
   ]
  },
  {
   "cell_type": "markdown",
   "metadata": {},
   "source": [
    "The data is skewed to the right here also. Total calls follows the similar trends that call duration also followed. The distribution is centered at 60."
   ]
  },
  {
   "cell_type": "code",
   "execution_count": 20,
   "metadata": {
    "scrolled": true
   },
   "outputs": [
    {
     "data": {
      "text/plain": [
       "Text(0.5, 0, 'mb_used')"
      ]
     },
     "execution_count": 20,
     "metadata": {},
     "output_type": "execute_result"
    },
    {
     "data": {
      "image/png": "[encoded data removed]",
      "text/plain": [
       "<Figure size 432x288 with 1 Axes>"
      ]
     },
     "metadata": {
      "needs_background": "light"
     },
     "output_type": "display_data"
    }
   ],
   "source": [
    "plt.hist([ultimate_users['mb_used'],surf_users['mb_used']],label= ['ultimate','surf'], density = True)\n",
    "plt.legend()\n",
    "plt.xlabel('mb_used')"
   ]
  },
  {
   "cell_type": "markdown",
   "metadata": {},
   "source": [
    "The data is skewed to the right here also. There is a sharp centering around 20000 MB for users of both plans and there are very few users who use more or less than that becoming more less for more distance from the mean. This could be classified as a normal distribution too and probably has a good example of how the central limit theorem applies to real life."
   ]
  },
  {
   "cell_type": "markdown",
   "metadata": {},
   "source": [
    "# Sample hypothesis tests.\n",
    "\n",
    "While we could ask many questions that this data could give us the answer to, let us focus on two questionsf for now. We will test the null hyopthesis that 'The average revenue from users of Ultimate and Surf calling plans does not differ' against the alternative hypothesis that 'The average revenue from users of Ultimate and Surf calling plans differs'. For this, we will use an alpha of 0.05, which means that only in 5% of cases will we reject the null hypothesis when it is true. We will consider the variances to be equal since all the calculations and graphs we showed above seem to suggest that. We will have to use a t test to test if there is a difference in the population means.\n"
   ]
  },
  {
   "cell_type": "code",
   "execution_count": 21,
   "metadata": {},
   "outputs": [
    {
     "name": "stdout",
     "output_type": "stream",
     "text": [
      "ultimate_mu 72.06313080202936\n",
      "surf_mu 57.28641962394068\n",
      "ultimate_sd 10.483267701556043\n",
      "surf_sd 51.98648236622561\n"
     ]
    }
   ],
   "source": [
    "from scipy import stats as st\n",
    "sample_surf = user_attributes.groupby(['plan'])['revenue'].get_group('surf')\n",
    "sample_ultimate = user_attributes.groupby(['plan'])['revenue'].get_group('ultimate')\n",
    "ultimate_mu = sample_ultimate.mean()\n",
    "surf_mu = sample_surf.mean()\n",
    "ultimate_sd = sample_ultimate.std()\n",
    "surf_sd = sample_surf.std()\n",
    "print('ultimate_mu', ultimate_mu)\n",
    "print('surf_mu',surf_mu)\n",
    "print('ultimate_sd', ultimate_sd)\n",
    "print('surf_sd',surf_sd)\n",
    "#display(sample_surf.head(20))\n",
    "\n",
    "#user_attributes.head(20)"
   ]
  },
  {
   "cell_type": "markdown",
   "metadata": {},
   "source": [
    "While there are big standard deviations, there is a very big difference in the average profit. My prediction is that the null hypothesis will be rejected."
   ]
  },
  {
   "cell_type": "code",
   "execution_count": 22,
   "metadata": {},
   "outputs": [
    {
     "name": "stdout",
     "output_type": "stream",
     "text": [
      "p-value: 1.733590291064079e-11\n",
      "We reject the null hypothesis\n"
     ]
    }
   ],
   "source": [
    "alpha = 0.05 \n",
    "# critical statistical significance level\n",
    "# if the p-value is less than alpha, we reject the hypothesis\n",
    "\n",
    "#results = st.ttest_ind(sample_ultimate,sample_surf)\n",
    "\n",
    "\n",
    "results = st.ttest_ind(user_attributes['monthly_profit_Surf'], user_attributes['monthly_profit_Ultimate'],nan_policy= 'omit')\n",
    "#print(type(surf_users['monthly_profit']))\n",
    "print('p-value:', results.pvalue)\n",
    "\n",
    "\n",
    "if (results.pvalue < alpha):\n",
    "        print(\"We reject the null hypothesis\")\n",
    "else:\n",
    "        print(\"We can't reject the null hypothesis\")\n",
    "\n",
    "\n",
    "\n"
   ]
  },
  {
   "cell_type": "markdown",
   "metadata": {},
   "source": [
    "This is a very small p-value, implying that there is very strong evidence that there is a difference in the profit made by each company."
   ]
  },
  {
   "cell_type": "markdown",
   "metadata": {},
   "source": [
    "We will now test the null hyopthesis that 'The average profit from users in NY-NJ area is not different from that of the users from other regions'against the alternative hypothesis that 'The average profit from users in NY-NJ area is different from that of the users from other regions'. For this, we will use an alpha of 0.05, which means that only in 5% of cases will we reject the null hypothesis when it is true. We will consider the variances to be equal since all the calculations and graphs we showed above seem to suggest that. We will have to use a t test to test if there is a difference in the population means."
   ]
  },
  {
   "cell_type": "code",
   "execution_count": 23,
   "metadata": {
    "scrolled": true
   },
   "outputs": [
    {
     "name": "stdout",
     "output_type": "stream",
     "text": [
      "users_NY_NJ_mu 55.63718764000896\n",
      "users_not_NY_NJ_mu 63.378211175042225\n",
      "users_NY_NJ_sd 37.761964759199614\n",
      "users_not_NY_NJ_sd 44.465160155606355\n"
     ]
    }
   ],
   "source": [
    "#ultimate_users['city'].value_counts()\n",
    "user_attributes = pd.merge(user_attributes,cities,on='user_id')\n",
    "users_NY_NJ = user_attributes.query('city == \"New York-Newark-Jersey City, NY-NJ-PA MSA\"')\n",
    "users_not_NY_NJ = user_attributes.query('city != \"New York-Newark-Jersey City, NY-NJ-PA MSA\"')\n",
    "\n",
    "users_NY_NJ_mu = users_NY_NJ['revenue'].mean()\n",
    "users_not_NY_NJ_mu = users_not_NY_NJ['revenue'].mean()\n",
    "users_NY_NJ_sd = users_NY_NJ['revenue'].std()\n",
    "users_not_NY_NJ_sd = users_not_NY_NJ['revenue'].std()\n",
    "print('users_NY_NJ_mu', users_NY_NJ_mu)\n",
    "print('users_not_NY_NJ_mu',users_not_NY_NJ_mu)\n",
    "print('users_NY_NJ_sd', users_NY_NJ_sd)\n",
    "print('users_not_NY_NJ_sd',users_not_NY_NJ_sd)"
   ]
  },
  {
   "cell_type": "code",
   "execution_count": 24,
   "metadata": {},
   "outputs": [
    {
     "name": "stdout",
     "output_type": "stream",
     "text": [
      "p-value:  0.0064317324164050605\n",
      "We reject the null hypothesis\n"
     ]
    }
   ],
   "source": [
    "alpha = .05 # critical statistical significance level\n",
    "                        # if the p-value is less than alpha, we reject the hypothesis\n",
    "\n",
    "results = st.ttest_ind(\n",
    "        users_NY_NJ['revenue'], \n",
    "        users_not_NY_NJ['revenue'], nan_policy = 'omit')\n",
    "\n",
    "print('p-value: ', results.pvalue)\n",
    "\n",
    "if (results.pvalue < alpha):\n",
    "        print(\"We reject the null hypothesis\")\n",
    "else:\n",
    "        print(\"We can't reject the null hypothesis\")"
   ]
  },
  {
   "cell_type": "markdown",
   "metadata": {},
   "source": [
    "The p-value is tiny, giving us evidence to reject the null hypothesis. This means that users from the NY-NJ area, which are mostly metropolitan, give us much more profits than people from the rest of the country, which includes rural areas."
   ]
  },
  {
   "cell_type": "markdown",
   "metadata": {},
   "source": [
    "# Conclusions\n",
    "\n",
    "Surf has a much lower base price but still manages to generate a decent revenue. This means that Surf has the potential to be more cheaper incase Megaline is trying to increase their market share.  \n",
    "\n",
    "The study about the NY-NJ areas leads us to believe that Megaline should invest more in the urban areas since the profits are higher from areas that have more cities. \n",
    "\n",
    "Further analysis on the users age could have been done to figure out which is the most profitable demographic. Then, advertisement could be created to specifically target that group of people. For example, if ages 10-25 are the most profitable, then social media apps like Snapchat or Instagram would be a good place to advertise. \n",
    "\n",
    "As far as adjusting the rates for a call/text/data, we have some good insights into which is more profitable. We know that most users use around 20000 MB, so for a premeir plan, crossing that limit should have a heavier rate, and for a cheaper plan, the threshold should be lower than 20000 MB so that you have maximum number of people paying more.\n",
    "\n",
    "Some users of the Surf Plan significantly overuse their plans while Ultimate users rarely overuse their plan. By understanding this, we could try to find high using Surf customers in the market and attract them with our plans for greater revenue.\n",
    "\n",
    "The Ultimate plan produces more revenue than the Surf plan, but thanks to a few key user segments that drive the revenue much higher for the Surf plan. Therefore the Ultimate plan is more profitable."
   ]
  },
  {
   "cell_type": "code",
   "execution_count": null,
   "metadata": {},
   "outputs": [],
   "source": []
  }
 ],
 "metadata": {
  "kernelspec": {
   "display_name": "Python 3",
   "language": "python",
   "name": "python3"
  },
  "language_info": {
   "codemirror_mode": {
    "name": "ipython",
    "version": 3
   },
   "file_extension": ".py",
   "mimetype": "text/x-python",
   "name": "python",
   "nbconvert_exporter": "python",
   "pygments_lexer": "ipython3",
   "version": "3.8.3"
  }
 },
 "nbformat": 4,
 "nbformat_minor": 2
}
